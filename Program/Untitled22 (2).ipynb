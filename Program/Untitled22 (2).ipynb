{
 "cells": [
  {
   "cell_type": "markdown",
   "id": "5f364963-01ff-4476-90a4-3e9ce09a4280",
   "metadata": {},
   "source": [
    "### 12.  Create BCA.txt. Write 5 lines directly and 5 lines must be taken from user. Print the smallest and largest word in this file."
   ]
  },
  {
   "cell_type": "code",
   "execution_count": 1,
   "id": "c6e5a8a3-794d-47c6-bd63-f89ce4958b1a",
   "metadata": {},
   "outputs": [],
   "source": [
    "f=open(\"C:\\\\23bca273\\\\sqlite3\\\\data\\\\bca.txt\",\"w\")"
   ]
  },
  {
   "cell_type": "code",
   "execution_count": 2,
   "id": "a2fd4768-8ab4-4781-839b-9d3818639bda",
   "metadata": {},
   "outputs": [
    {
     "data": {
      "text/plain": [
       "21"
      ]
     },
     "execution_count": 2,
     "metadata": {},
     "output_type": "execute_result"
    }
   ],
   "source": [
    "f.write(\"bca is it cose \\n\")\n",
    "f.write(\"bca is corently high dimand \\n\")\n",
    "f.write(\"bca is used for internet \\n\")\n",
    "f.write(\"bca is cyber cisyority \\n\")\n",
    "f.write(\"bca is to developer \\n\")"
   ]
  },
  {
   "cell_type": "code",
   "execution_count": 3,
   "id": "97430e6a-5083-4dfc-9d89-9d21967d2873",
   "metadata": {},
   "outputs": [],
   "source": [
    "f.close()"
   ]
  },
  {
   "cell_type": "code",
   "execution_count": 4,
   "id": "eb24cd2d-7e0d-4c5b-9573-2d57b0af6e8f",
   "metadata": {},
   "outputs": [],
   "source": [
    "f=open(\"C:\\\\23bca273\\\\sqlite3\\\\data\\\\bca.txt\",\"r\")"
   ]
  },
  {
   "cell_type": "code",
   "execution_count": 5,
   "id": "28c049c2-e613-406e-9222-8ac8fa382033",
   "metadata": {},
   "outputs": [],
   "source": [
    "l=f.read()"
   ]
  },
  {
   "cell_type": "code",
   "execution_count": 6,
   "id": "ba1b0042-afae-4d55-a349-252348dcb83f",
   "metadata": {},
   "outputs": [
    {
     "name": "stdout",
     "output_type": "stream",
     "text": [
      "bca is it cose \n",
      "bca is corently high dimand \n",
      "bca is used for internet \n",
      "bca is cyber cisyority \n",
      "bca is to developer \n",
      "\n"
     ]
    }
   ],
   "source": [
    "print(l)"
   ]
  },
  {
   "cell_type": "code",
   "execution_count": 7,
   "id": "33db8c3b-fab3-47b8-b2fa-40fa590a0af2",
   "metadata": {},
   "outputs": [],
   "source": [
    "f.close()"
   ]
  },
  {
   "cell_type": "code",
   "execution_count": 8,
   "id": "152b9c85-155f-4b56-847a-7476354015a8",
   "metadata": {},
   "outputs": [],
   "source": [
    "f=open(\"C:\\\\23bca273\\\\sqlite3\\\\data\\\\bca.txt\",\"w\")"
   ]
  },
  {
   "cell_type": "code",
   "execution_count": 9,
   "id": "c5ce0e34-a6f8-42ab-a34f-5c52f2c394b6",
   "metadata": {},
   "outputs": [],
   "source": [
    "l=[]"
   ]
  },
  {
   "cell_type": "code",
   "execution_count": 11,
   "id": "444c9b6c-4adf-4a1d-b5bd-a3deb87acc29",
   "metadata": {},
   "outputs": [
    {
     "name": "stdin",
     "output_type": "stream",
     "text": [
      " bca is computer base\n",
      " bca is used for software developer\n",
      " bca is 3 year cose\n",
      " bca is 6 sem cose\n",
      " bca is to owens  cose\n"
     ]
    }
   ],
   "source": [
    "for i in range(5):\n",
    "    user_input=input()"
   ]
  },
  {
   "cell_type": "code",
   "execution_count": 12,
   "id": "f1006e2a-a767-484f-a45d-bd4131ccf7ca",
   "metadata": {},
   "outputs": [],
   "source": [
    "f.close()"
   ]
  },
  {
   "cell_type": "code",
   "execution_count": 14,
   "id": "f35a9f64-491e-43f1-8fcf-147f6cd8e3bf",
   "metadata": {},
   "outputs": [],
   "source": [
    "f=open(\"C:\\\\23bca273\\\\sqlite3\\\\data\\\\bca.txt\",\"r\")"
   ]
  },
  {
   "cell_type": "code",
   "execution_count": 16,
   "id": "e6c7c2e0-d549-4aa2-a413-9ba098c1682c",
   "metadata": {},
   "outputs": [],
   "source": [
    "content=f.read()"
   ]
  },
  {
   "cell_type": "code",
   "execution_count": 17,
   "id": "61f73d1c-c920-45a9-b590-f26d9b0a3afb",
   "metadata": {},
   "outputs": [],
   "source": [
    "word=content.split()"
   ]
  },
  {
   "cell_type": "code",
   "execution_count": 18,
   "id": "37834b2e-14f7-4056-9172-59f0cbc8ffed",
   "metadata": {},
   "outputs": [
    {
     "ename": "IndentationError",
     "evalue": "unexpected indent (2961419053.py, line 4)",
     "output_type": "error",
     "traceback": [
      "\u001b[1;36m  Cell \u001b[1;32mIn[18], line 4\u001b[1;36m\u001b[0m\n\u001b[1;33m    print(f\"The smallest word is: '{smallest_word}'\")\u001b[0m\n\u001b[1;37m    ^\u001b[0m\n\u001b[1;31mIndentationError\u001b[0m\u001b[1;31m:\u001b[0m unexpected indent\n"
     ]
    }
   ],
   "source": [
    "if word:\n",
    "    smalllest_word=min(words,key=len)\n",
    "    larger_word=max(words,key=len)\n",
    "        print(f\"The smallest word is: '{smallest_word}'\")\n",
    "        print(f\"The largest word is: '{largest_word}'\")\n",
    "else:\n",
    "        print(\"No words found in the file.\")"
   ]
  },
  {
   "cell_type": "code",
   "execution_count": null,
   "id": "a8c59f27-fc37-457b-8036-556e880153db",
   "metadata": {},
   "outputs": [],
   "source": []
  }
 ],
 "metadata": {
  "kernelspec": {
   "display_name": "Python 3 (ipykernel)",
   "language": "python",
   "name": "python3"
  },
  "language_info": {
   "codemirror_mode": {
    "name": "ipython",
    "version": 3
   },
   "file_extension": ".py",
   "mimetype": "text/x-python",
   "name": "python",
   "nbconvert_exporter": "python",
   "pygments_lexer": "ipython3",
   "version": "3.12.4"
  }
 },
 "nbformat": 4,
 "nbformat_minor": 5
}
